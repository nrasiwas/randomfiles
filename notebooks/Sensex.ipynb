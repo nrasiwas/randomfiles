{
 "cells": [
  {
   "cell_type": "code",
   "execution_count": null,
   "metadata": {
    "collapsed": false
   },
   "outputs": [],
   "source": [
    "import pandas as pd\n",
    "import numpy as np\n",
    "import datetime\n",
    "%matplotlib inline\n",
    "import matplotlib.pyplot as plt\n",
    "from bokeh.plotting import figure, output_notebook, show, output_file, vplot, save\n",
    "output_notebook()\n",
    "#output_file('sensex2.html')"
   ]
  },
  {
   "cell_type": "markdown",
   "metadata": {},
   "source": [
    "### Read Data"
   ]
  },
  {
   "cell_type": "code",
   "execution_count": null,
   "metadata": {
    "collapsed": false
   },
   "outputs": [],
   "source": [
    "df = pd.read_csv('https://raw.githubusercontent.com/nrasiwas/randomfiles/master/data/SENSEX.csv', error_bad_lines=False)\n",
    "df.tail()"
   ]
  },
  {
   "cell_type": "markdown",
   "metadata": {},
   "source": [
    "### Analyze Data "
   ]
  },
  {
   "cell_type": "code",
   "execution_count": null,
   "metadata": {
    "collapsed": false
   },
   "outputs": [],
   "source": [
    "#startord = datetime.date(2000, 1, 1).toordinal()\n",
    "startord = datetime.date(1979, 4, 3).toordinal()\n",
    "\n",
    "endord = datetime.date(2016, 6, 10).toordinal()\n",
    "dates = []\n",
    "years = [2,5,10]\n",
    "N = endord - startord + 1\n",
    "D = 1\n",
    "out = np.zeros((N / D, len(years)))\n",
    "outdf = None\n",
    "for sno, y in enumerate(years):\n",
    "    for isno, i in enumerate(range(0,N,D)):\n",
    "        try:\n",
    "            startdate = datetime.datetime.fromordinal(startord + i)\n",
    "            if sno == 0:\n",
    "                dates.append(startdate)\n",
    "            starttext = startdate.strftime('%d-%B-%Y').lstrip(\"0\").replace(\" 0\", \" \")\n",
    "            enddate = startdate.replace(year = startdate.year + y)\n",
    "            endtext = enddate.strftime('%d-%B-%Y').lstrip(\"0\").replace(\" 0\", \" \")\n",
    "            startvalue = df.loc[starttext].Low\n",
    "            endvalue = df.loc[endtext].Low\n",
    "            rr = (np.power(endvalue / startvalue, 1 / float(y)) - 1) * 100\n",
    "        except:\n",
    "            rr = np.NaN\n",
    "        out[isno, sno] = rr"
   ]
  },
  {
   "cell_type": "code",
   "execution_count": null,
   "metadata": {
    "collapsed": false
   },
   "outputs": [],
   "source": [
    "outdf = pd.DataFrame(out, index=dates).interpolate()\n",
    "outdf.columns = ['{} Year'.format(i) for i in years]\n",
    "for sno, y in enumerate(years):\n",
    "    outdf['{} Year'.format(y)][-(365 * y):] = np.NaN\n",
    "outdf.index = dates\n",
    "outdf.describe()\n",
    "sampled = outdf.iloc[::7]\n",
    "print sampled.count()"
   ]
  },
  {
   "cell_type": "markdown",
   "metadata": {},
   "source": [
    "### Visualize Data "
   ]
  },
  {
   "cell_type": "code",
   "execution_count": null,
   "metadata": {
    "collapsed": false,
    "scrolled": false
   },
   "outputs": [],
   "source": [
    "from bokeh.palettes import Spectral11\n",
    "from bokeh.models import HoverTool\n",
    "numlines=len(sampled.columns)\n",
    "mypalette=Spectral11[0:numlines]\n",
    "p = {}\n",
    "#\"pan,wheel_zoom,reset,resize,save,crosshair,hover\", \n",
    "\n",
    "for sno, name in enumerate(sampled):\n",
    "    mn = sampled[name].mean()\n",
    "    st = sampled[name].std()\n",
    "    d1 = sampled.index.values[0]\n",
    "    d2 = sampled.index.values[-1]\n",
    "    p[sno] = figure(tools=['pan,reset,resize,wheel_zoom,crosshair,save'], x_axis_type=\"datetime\", x_axis_label='date', y_axis_label='%', title= name + ' returns (%)', width=1000, height=600)\n",
    "    g_mean = p[sno].line([d1, d2], [mn, mn], line_width=2, line_color = mypalette[sno])\n",
    "    p[sno].quad(left=[d1], right=[d2], top=[mn+2*st], bottom=[mn-2*st], color=\"#B369DE\", fill_alpha=0.1, line_alpha=0)\n",
    "    p[sno].quad(left=[d1], right=[d2], top=[mn+st], bottom=[mn-st], color=\"#B3DE69\", fill_alpha=0.3, line_alpha=0)\n",
    "    g_line = p[sno].line(sampled.index.values, sampled[name].values, line_width=2, line_color = mypalette[sno])\n",
    "    hover = HoverTool(\n",
    "        renderers=[g_line, g_mean],\n",
    "        tooltips=[(\"Interest\", \"@y{2.2}%\")]\n",
    "    )\n",
    "    p[sno].add_tools(hover)\n",
    "\n",
    "vp = vplot(p[0], p[1], p[2])\n",
    "show(vp)"
   ]
  }
 ],
 "metadata": {
  "kernelspec": {
   "display_name": "Python 2",
   "language": "python",
   "name": "python2"
  },
  "language_info": {
   "codemirror_mode": {
    "name": "ipython",
    "version": 2
   },
   "file_extension": ".py",
   "mimetype": "text/x-python",
   "name": "python",
   "nbconvert_exporter": "python",
   "pygments_lexer": "ipython2",
   "version": "2.7.11"
  }
 },
 "nbformat": 4,
 "nbformat_minor": 0
}
