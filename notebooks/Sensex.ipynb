{
 "cells": [
  {
   "cell_type": "code",
   "execution_count": 1,
   "metadata": {
    "collapsed": false
   },
   "outputs": [],
   "source": [
    "import pandas as pd\n",
    "import numpy as np\n",
    "import datetime\n",
    "%matplotlib inline\n",
    "import matplotlib.pyplot as plt\n",
    "from bokeh.plotting import figure, output_notebook, show, output_file, vplot, save\n",
    "#output_notebook()\n",
    "output_file('sensex2.html')"
   ]
  },
  {
   "cell_type": "code",
   "execution_count": 2,
   "metadata": {
    "collapsed": true
   },
   "outputs": [],
   "source": [
    "def mtext(p, x, y, text):\n",
    "    p.text(x, y, text=[text],\n",
    "           text_color=\"firebrick\", text_align=\"center\", text_font_size=\"10pt\")"
   ]
  },
  {
   "cell_type": "code",
   "execution_count": 3,
   "metadata": {
    "collapsed": false
   },
   "outputs": [
    {
     "data": {
      "text/html": [
       "<div>\n",
       "<table border=\"1\" class=\"dataframe\">\n",
       "  <thead>\n",
       "    <tr style=\"text-align: right;\">\n",
       "      <th></th>\n",
       "      <th>Date</th>\n",
       "      <th>Open</th>\n",
       "      <th>High</th>\n",
       "      <th>Low</th>\n",
       "      <th>Close</th>\n",
       "    </tr>\n",
       "  </thead>\n",
       "  <tbody>\n",
       "    <tr>\n",
       "      <th>6-June-2016</th>\n",
       "      <td>26897.84</td>\n",
       "      <td>26901.42</td>\n",
       "      <td>26729.54</td>\n",
       "      <td>26777.45</td>\n",
       "      <td>NaN</td>\n",
       "    </tr>\n",
       "    <tr>\n",
       "      <th>7-June-2016</th>\n",
       "      <td>26833.54</td>\n",
       "      <td>27082.63</td>\n",
       "      <td>26829.53</td>\n",
       "      <td>27009.67</td>\n",
       "      <td>NaN</td>\n",
       "    </tr>\n",
       "    <tr>\n",
       "      <th>8-June-2016</th>\n",
       "      <td>27085.24</td>\n",
       "      <td>27105.41</td>\n",
       "      <td>26973.71</td>\n",
       "      <td>27020.66</td>\n",
       "      <td>NaN</td>\n",
       "    </tr>\n",
       "    <tr>\n",
       "      <th>9-June-2016</th>\n",
       "      <td>26994.48</td>\n",
       "      <td>26994.91</td>\n",
       "      <td>26692.35</td>\n",
       "      <td>26763.46</td>\n",
       "      <td>NaN</td>\n",
       "    </tr>\n",
       "    <tr>\n",
       "      <th>10-June-2016</th>\n",
       "      <td>26742.26</td>\n",
       "      <td>26972.06</td>\n",
       "      <td>26620.50</td>\n",
       "      <td>26635.75</td>\n",
       "      <td>NaN</td>\n",
       "    </tr>\n",
       "  </tbody>\n",
       "</table>\n",
       "</div>"
      ],
      "text/plain": [
       "                  Date      Open      High       Low  Close\n",
       "6-June-2016   26897.84  26901.42  26729.54  26777.45    NaN\n",
       "7-June-2016   26833.54  27082.63  26829.53  27009.67    NaN\n",
       "8-June-2016   27085.24  27105.41  26973.71  27020.66    NaN\n",
       "9-June-2016   26994.48  26994.91  26692.35  26763.46    NaN\n",
       "10-June-2016  26742.26  26972.06  26620.50  26635.75    NaN"
      ]
     },
     "execution_count": 3,
     "metadata": {},
     "output_type": "execute_result"
    }
   ],
   "source": [
    "df = pd.read_csv('/Users/nikux/Downloads/SENSEX.csv', error_bad_lines=False)\n",
    "df.tail()"
   ]
  },
  {
   "cell_type": "code",
   "execution_count": 4,
   "metadata": {
    "collapsed": false
   },
   "outputs": [],
   "source": [
    "startord = datetime.date(2000, 1, 1).toordinal()\n",
    "#startord = datetime.date(1979, 4, 3).toordinal()\n",
    "\n",
    "endord = datetime.date(2016, 6, 10).toordinal()\n",
    "dates = []\n",
    "years = [2,5,10]\n",
    "N = endord - startord + 1\n",
    "D = 1\n",
    "out = np.zeros((N / D, len(years)))\n",
    "outdf = None\n",
    "for sno, y in enumerate(years):\n",
    "    for isno, i in enumerate(range(0,N,D)):\n",
    "        try:\n",
    "            startdate = datetime.datetime.fromordinal(startord + i)\n",
    "            if sno == 0:\n",
    "                dates.append(startdate)\n",
    "            starttext = startdate.strftime('%d-%B-%Y').lstrip(\"0\").replace(\" 0\", \" \")\n",
    "            enddate = startdate.replace(year = startdate.year + y)\n",
    "            endtext = enddate.strftime('%d-%B-%Y').lstrip(\"0\").replace(\" 0\", \" \")\n",
    "            startvalue = df.loc[starttext].Low\n",
    "            endvalue = df.loc[endtext].Low\n",
    "            rr = (np.power(endvalue / startvalue, 1 / float(y)) - 1) * 100\n",
    "        except:\n",
    "            rr = np.NaN\n",
    "        out[isno, sno] = rr"
   ]
  },
  {
   "cell_type": "code",
   "execution_count": 5,
   "metadata": {
    "collapsed": false
   },
   "outputs": [
    {
     "name": "stdout",
     "output_type": "stream",
     "text": [
      "2 Year     753\n",
      "5 Year     597\n",
      "10 Year    336\n",
      "dtype: int64\n"
     ]
    }
   ],
   "source": [
    "outdf = pd.DataFrame(out, index=dates).interpolate()\n",
    "outdf.columns = ['{} Year'.format(i) for i in years]\n",
    "for sno, y in enumerate(years):\n",
    "    outdf['{} Year'.format(y)][-(365 * y):] = np.NaN\n",
    "outdf.index = dates\n",
    "outdf.describe()\n",
    "sampled = outdf.iloc[::7]\n",
    "print sampled.count()"
   ]
  },
  {
   "cell_type": "code",
   "execution_count": 6,
   "metadata": {
    "collapsed": false
   },
   "outputs": [],
   "source": [
    "from bokeh.models import HoverTool\n",
    "from bokeh.plotting import figure, output_notebook, show, output_file, vplot, save\n",
    "\n",
    "\n",
    "\n",
    "if 0:\n",
    "    from bokeh.palettes import Spectral11\n",
    "    numlines=len(sampled.columns)\n",
    "    mypalette=Spectral11[0:numlines]\n",
    "    p = {}\n",
    "    sno = 0\n",
    "    name = '2 Year'\n",
    "    mn = sampled[name].mean()\n",
    "    st = sampled[name].std()\n",
    "    d1 = sampled.index.values[0]\n",
    "    d2 = sampled.index.values[-1]\n",
    "    p[sno] = figure(tools=['pan,reset,resize,wheel_zoom,crosshair,save'], x_axis_type=\"datetime\", x_axis_label='date', y_axis_label='%', title= name + ' returns (%)', width=1000, height=600)\n",
    "    p[sno].line([d1, d2], [mn, mn], line_width=2, line_color = mypalette[sno])\n",
    "    p[sno].quad(left=[d1], right=[d2], top=[mn+2*st], bottom=[mn-2*st], color=\"#B369DE\", fill_alpha=0.1, line_alpha=0)\n",
    "    p[sno].quad(left=[d1], right=[d2], top=[mn+st], bottom=[mn-st], color=\"#B3DE69\", fill_alpha=0.3, line_alpha=0)\n",
    "    g_line = p[sno].line(sampled.index.values, sampled[name].values, line_width=2, line_color = mypalette[sno])\n",
    "    #p[sno].text([d2], [0], text=[\"Mean: {:04.2f}%\".format(mn)],\n",
    "           #text_color=\"firebrick\", text_align=\"right\", color=\"#B3DE69\", text_font_style='bold', text_font_size=\"12pt\")\n",
    "    hover = HoverTool(\n",
    "        renderers=[g_line],\n",
    "        tooltips=[(\"Interest\", \"@y{2.2}%\")]\n",
    "    )\n",
    "    p[sno].add_tools(hover)\n",
    "    show(p[0])\n"
   ]
  },
  {
   "cell_type": "code",
   "execution_count": 7,
   "metadata": {
    "collapsed": false,
    "scrolled": false
   },
   "outputs": [],
   "source": [
    "from bokeh.palettes import Spectral11\n",
    "from bokeh.models import HoverTool\n",
    "numlines=len(sampled.columns)\n",
    "mypalette=Spectral11[0:numlines]\n",
    "p = {}\n",
    "#\"pan,wheel_zoom,reset,resize,save,crosshair,hover\", \n",
    "\n",
    "for sno, name in enumerate(sampled):\n",
    "    mn = sampled[name].mean()\n",
    "    st = sampled[name].std()\n",
    "    d1 = sampled.index.values[0]\n",
    "    d2 = sampled.index.values[-1]\n",
    "    p[sno] = figure(tools=['pan,reset,resize,wheel_zoom,crosshair,save'], x_axis_type=\"datetime\", x_axis_label='date', y_axis_label='%', title= name + ' returns (%)', width=1000, height=600)\n",
    "    g_mean = p[sno].line([d1, d2], [mn, mn], line_width=2, line_color = mypalette[sno])\n",
    "    p[sno].quad(left=[d1], right=[d2], top=[mn+2*st], bottom=[mn-2*st], color=\"#B369DE\", fill_alpha=0.1, line_alpha=0)\n",
    "    p[sno].quad(left=[d1], right=[d2], top=[mn+st], bottom=[mn-st], color=\"#B3DE69\", fill_alpha=0.3, line_alpha=0)\n",
    "    g_line = p[sno].line(sampled.index.values, sampled[name].values, line_width=2, line_color = mypalette[sno])\n",
    "    #p[sno].text([d2], [0], text=[\"Mean: {:04.2f}%\".format(mn)],\n",
    "           #text_color=\"firebrick\", text_align=\"right\", color=\"#B3DE69\", text_font_style='bold', text_font_size=\"12pt\")\n",
    "    hover = HoverTool(\n",
    "        renderers=[g_line, g_mean],\n",
    "        tooltips=[(\"Interest\", \"@y{2.2}%\")]\n",
    "    )\n",
    "    p[sno].add_tools(hover)\n",
    "\n",
    "vp = vplot(p[0], p[1], p[2])\n",
    "save(vp)"
   ]
  },
  {
   "cell_type": "code",
   "execution_count": 8,
   "metadata": {
    "collapsed": true
   },
   "outputs": [],
   "source": [
    "import cPickle as pickle"
   ]
  },
  {
   "cell_type": "code",
   "execution_count": 9,
   "metadata": {
    "collapsed": false
   },
   "outputs": [
    {
     "ename": "NameError",
     "evalue": "global name 'a' is not defined",
     "output_type": "error",
     "traceback": [
      "\u001b[0;31m---------------------------------------------------------------------------\u001b[0m",
      "\u001b[0;31mNameError\u001b[0m                                 Traceback (most recent call last)",
      "\u001b[0;32m<ipython-input-9-096a9073b8b6>\u001b[0m in \u001b[0;36m<module>\u001b[0;34m()\u001b[0m\n\u001b[0;32m----> 1\u001b[0;31m \u001b[0mget_ipython\u001b[0m\u001b[0;34m(\u001b[0m\u001b[0;34m)\u001b[0m\u001b[0;34m.\u001b[0m\u001b[0mrun_cell_magic\u001b[0m\u001b[0;34m(\u001b[0m\u001b[0;34mu'timeit'\u001b[0m\u001b[0;34m,\u001b[0m \u001b[0;34mu''\u001b[0m\u001b[0;34m,\u001b[0m \u001b[0;34mu\"f = open('/tmp/delete.tst', 'wb', 10000)\\npickle.dump(a, f, 2)#protocol=pickle.HIGHEST_PROTOCOL)\\nf.close()\"\u001b[0m\u001b[0;34m)\u001b[0m\u001b[0;34m\u001b[0m\u001b[0m\n\u001b[0m",
      "\u001b[0;32m/opt/anaconda_2.4.0/lib/python2.7/site-packages/IPython/core/interactiveshell.pyc\u001b[0m in \u001b[0;36mrun_cell_magic\u001b[0;34m(self, magic_name, line, cell)\u001b[0m\n\u001b[1;32m   2118\u001b[0m             \u001b[0mmagic_arg_s\u001b[0m \u001b[0;34m=\u001b[0m \u001b[0mself\u001b[0m\u001b[0;34m.\u001b[0m\u001b[0mvar_expand\u001b[0m\u001b[0;34m(\u001b[0m\u001b[0mline\u001b[0m\u001b[0;34m,\u001b[0m \u001b[0mstack_depth\u001b[0m\u001b[0;34m)\u001b[0m\u001b[0;34m\u001b[0m\u001b[0m\n\u001b[1;32m   2119\u001b[0m             \u001b[0;32mwith\u001b[0m \u001b[0mself\u001b[0m\u001b[0;34m.\u001b[0m\u001b[0mbuiltin_trap\u001b[0m\u001b[0;34m:\u001b[0m\u001b[0;34m\u001b[0m\u001b[0m\n\u001b[0;32m-> 2120\u001b[0;31m                 \u001b[0mresult\u001b[0m \u001b[0;34m=\u001b[0m \u001b[0mfn\u001b[0m\u001b[0;34m(\u001b[0m\u001b[0mmagic_arg_s\u001b[0m\u001b[0;34m,\u001b[0m \u001b[0mcell\u001b[0m\u001b[0;34m)\u001b[0m\u001b[0;34m\u001b[0m\u001b[0m\n\u001b[0m\u001b[1;32m   2121\u001b[0m             \u001b[0;32mreturn\u001b[0m \u001b[0mresult\u001b[0m\u001b[0;34m\u001b[0m\u001b[0m\n\u001b[1;32m   2122\u001b[0m \u001b[0;34m\u001b[0m\u001b[0m\n",
      "\u001b[0;32m<decorator-gen-59>\u001b[0m in \u001b[0;36mtimeit\u001b[0;34m(self, line, cell)\u001b[0m\n",
      "\u001b[0;32m/opt/anaconda_2.4.0/lib/python2.7/site-packages/IPython/core/magic.pyc\u001b[0m in \u001b[0;36m<lambda>\u001b[0;34m(f, *a, **k)\u001b[0m\n\u001b[1;32m    191\u001b[0m     \u001b[0;31m# but it's overkill for just that one bit of state.\u001b[0m\u001b[0;34m\u001b[0m\u001b[0;34m\u001b[0m\u001b[0m\n\u001b[1;32m    192\u001b[0m     \u001b[0;32mdef\u001b[0m \u001b[0mmagic_deco\u001b[0m\u001b[0;34m(\u001b[0m\u001b[0marg\u001b[0m\u001b[0;34m)\u001b[0m\u001b[0;34m:\u001b[0m\u001b[0;34m\u001b[0m\u001b[0m\n\u001b[0;32m--> 193\u001b[0;31m         \u001b[0mcall\u001b[0m \u001b[0;34m=\u001b[0m \u001b[0;32mlambda\u001b[0m \u001b[0mf\u001b[0m\u001b[0;34m,\u001b[0m \u001b[0;34m*\u001b[0m\u001b[0ma\u001b[0m\u001b[0;34m,\u001b[0m \u001b[0;34m**\u001b[0m\u001b[0mk\u001b[0m\u001b[0;34m:\u001b[0m \u001b[0mf\u001b[0m\u001b[0;34m(\u001b[0m\u001b[0;34m*\u001b[0m\u001b[0ma\u001b[0m\u001b[0;34m,\u001b[0m \u001b[0;34m**\u001b[0m\u001b[0mk\u001b[0m\u001b[0;34m)\u001b[0m\u001b[0;34m\u001b[0m\u001b[0m\n\u001b[0m\u001b[1;32m    194\u001b[0m \u001b[0;34m\u001b[0m\u001b[0m\n\u001b[1;32m    195\u001b[0m         \u001b[0;32mif\u001b[0m \u001b[0mcallable\u001b[0m\u001b[0;34m(\u001b[0m\u001b[0marg\u001b[0m\u001b[0;34m)\u001b[0m\u001b[0;34m:\u001b[0m\u001b[0;34m\u001b[0m\u001b[0m\n",
      "\u001b[0;32m/opt/anaconda_2.4.0/lib/python2.7/site-packages/IPython/core/magics/execution.pyc\u001b[0m in \u001b[0;36mtimeit\u001b[0;34m(self, line, cell)\u001b[0m\n\u001b[1;32m   1039\u001b[0m             \u001b[0mnumber\u001b[0m \u001b[0;34m=\u001b[0m \u001b[0;36m1\u001b[0m\u001b[0;34m\u001b[0m\u001b[0m\n\u001b[1;32m   1040\u001b[0m             \u001b[0;32mfor\u001b[0m \u001b[0m_\u001b[0m \u001b[0;32min\u001b[0m \u001b[0mrange\u001b[0m\u001b[0;34m(\u001b[0m\u001b[0;36m1\u001b[0m\u001b[0;34m,\u001b[0m \u001b[0;36m10\u001b[0m\u001b[0;34m)\u001b[0m\u001b[0;34m:\u001b[0m\u001b[0;34m\u001b[0m\u001b[0m\n\u001b[0;32m-> 1041\u001b[0;31m                 \u001b[0mtime_number\u001b[0m \u001b[0;34m=\u001b[0m \u001b[0mtimer\u001b[0m\u001b[0;34m.\u001b[0m\u001b[0mtimeit\u001b[0m\u001b[0;34m(\u001b[0m\u001b[0mnumber\u001b[0m\u001b[0;34m)\u001b[0m\u001b[0;34m\u001b[0m\u001b[0m\n\u001b[0m\u001b[1;32m   1042\u001b[0m                 \u001b[0mworst_tuning\u001b[0m \u001b[0;34m=\u001b[0m \u001b[0mmax\u001b[0m\u001b[0;34m(\u001b[0m\u001b[0mworst_tuning\u001b[0m\u001b[0;34m,\u001b[0m \u001b[0mtime_number\u001b[0m \u001b[0;34m/\u001b[0m \u001b[0mnumber\u001b[0m\u001b[0;34m)\u001b[0m\u001b[0;34m\u001b[0m\u001b[0m\n\u001b[1;32m   1043\u001b[0m                 \u001b[0;32mif\u001b[0m \u001b[0mtime_number\u001b[0m \u001b[0;34m>=\u001b[0m \u001b[0;36m0.2\u001b[0m\u001b[0;34m:\u001b[0m\u001b[0;34m\u001b[0m\u001b[0m\n",
      "\u001b[0;32m/opt/anaconda_2.4.0/lib/python2.7/site-packages/IPython/core/magics/execution.pyc\u001b[0m in \u001b[0;36mtimeit\u001b[0;34m(self, number)\u001b[0m\n\u001b[1;32m    135\u001b[0m         \u001b[0mgc\u001b[0m\u001b[0;34m.\u001b[0m\u001b[0mdisable\u001b[0m\u001b[0;34m(\u001b[0m\u001b[0;34m)\u001b[0m\u001b[0;34m\u001b[0m\u001b[0m\n\u001b[1;32m    136\u001b[0m         \u001b[0;32mtry\u001b[0m\u001b[0;34m:\u001b[0m\u001b[0;34m\u001b[0m\u001b[0m\n\u001b[0;32m--> 137\u001b[0;31m             \u001b[0mtiming\u001b[0m \u001b[0;34m=\u001b[0m \u001b[0mself\u001b[0m\u001b[0;34m.\u001b[0m\u001b[0minner\u001b[0m\u001b[0;34m(\u001b[0m\u001b[0mit\u001b[0m\u001b[0;34m,\u001b[0m \u001b[0mself\u001b[0m\u001b[0;34m.\u001b[0m\u001b[0mtimer\u001b[0m\u001b[0;34m)\u001b[0m\u001b[0;34m\u001b[0m\u001b[0m\n\u001b[0m\u001b[1;32m    138\u001b[0m         \u001b[0;32mfinally\u001b[0m\u001b[0;34m:\u001b[0m\u001b[0;34m\u001b[0m\u001b[0m\n\u001b[1;32m    139\u001b[0m             \u001b[0;32mif\u001b[0m \u001b[0mgcold\u001b[0m\u001b[0;34m:\u001b[0m\u001b[0;34m\u001b[0m\u001b[0m\n",
      "\u001b[0;32m<magic-timeit>\u001b[0m in \u001b[0;36minner\u001b[0;34m(_it, _timer)\u001b[0m\n",
      "\u001b[0;31mNameError\u001b[0m: global name 'a' is not defined"
     ]
    }
   ],
   "source": [
    "%%timeit\n",
    "f = open('/tmp/delete.tst', 'wb', 10000)\n",
    "pickle.dump(a, f, 2)#protocol=pickle.HIGHEST_PROTOCOL)\n",
    "f.close()"
   ]
  },
  {
   "cell_type": "code",
   "execution_count": null,
   "metadata": {
    "collapsed": false
   },
   "outputs": [],
   "source": [
    "%%timeit\n",
    "f = open('/tmp/delete.tst', 'rb')\n",
    "pickle.load(f)\n",
    "f.close()"
   ]
  }
 ],
 "metadata": {
  "kernelspec": {
   "display_name": "Python 2",
   "language": "python",
   "name": "python2"
  },
  "language_info": {
   "codemirror_mode": {
    "name": "ipython",
    "version": 2
   },
   "file_extension": ".py",
   "mimetype": "text/x-python",
   "name": "python",
   "nbconvert_exporter": "python",
   "pygments_lexer": "ipython2",
   "version": "2.7.11"
  }
 },
 "nbformat": 4,
 "nbformat_minor": 0
}
